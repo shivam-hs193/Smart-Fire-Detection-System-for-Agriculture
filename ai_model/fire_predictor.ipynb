import pandas as pd
from sklearn.ensemble import RandomForestClassifier
import joblib

df = pd.read_csv('fire_dataset.csv')
X = df[['temperature', 'smoke', 'flame']]
y = df['fireDetected']

model = RandomForestClassifier()
model.fit(X, y)

joblib.dump(model, 'model.pkl')
